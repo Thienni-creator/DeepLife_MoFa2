{
 "cells": [
  {
   "cell_type": "code",
   "execution_count": null,
   "metadata": {},
   "outputs": [],
   "source": [
    "import scanpy as sc\n",
    "import numpy as np\n",
    "\n",
    "# Load preprocessed data (~2K genes)\n",
    "DATA_DIR = ...\n",
    "\n",
    "GEX = sc.read_h5ad(DATA_DIR / 'Cite_GEX_with_shared_preprocessed.h5ad')\n",
    "ADT = sc.read_h5ad(DATA_DIR / 'Cite_ADT_preprocessed.h5ad')"
   ]
  },
  {
   "cell_type": "code",
   "execution_count": null,
   "metadata": {},
   "outputs": [],
   "source": [
    "# Reduce the number of categories in the cell type annotation\n",
    "reduced_cell_type = []\n",
    "\n",
    "for cell in GEX.obs[\"cell_type\"]: \n",
    "    if \"CD8+\" in cell: \n",
    "        reduced_cell_type.append(\"CD8+\")\n",
    "    elif \"B1\" in cell: \n",
    "        reduced_cell_type.append(\"B1\")\n",
    "    elif \"CD4+\" in cell: \n",
    "        reduced_cell_type.append(\"CD4+\")\n",
    "    elif \"Plasma\" in cell: \n",
    "        reduced_cell_type.append(\"Plasma cell\")\n",
    "    elif \"NK\" in cell:\n",
    "        reduced_cell_type.append(\"NK\")\n",
    "    elif (\"gdT TCRVD2+\" in cell) or (\"dnT\" in cell) or (\"cDC1\" in cell) or (\"T prog cycling\" in cell):\n",
    "        reduced_cell_type.append(\"Other\")\n",
    "    elif \"Naive CD20+ B IGKC\" in cell:\n",
    "        reduced_cell_type.append(\"Naive CD20+ B IGKC\")\n",
    "    elif \"ILC\" in cell:\n",
    "        reduced_cell_type.append(\"ILC\")\n",
    "    else: \n",
    "        reduced_cell_type.append(cell)\n",
    "\n",
    "reduced_cell_type = np.asarray(reduced_cell_type)"
   ]
  },
  {
   "cell_type": "code",
   "execution_count": null,
   "metadata": {},
   "outputs": [],
   "source": [
    "# linear model to classify into cell types based on factors \n",
    "from sklearn.linear_model import LogisticRegression\n",
    "\n",
    "\n",
    "def linreg_eval(features, labels, test_split):\n",
    "    \"\"\" test_split: bool np array indicating test set \"\"\"\n",
    "    X_train, y_train = features[~test_split], labels[~test_split]\n",
    "    X_test, y_test = features[test_split], labels[test_split]\n",
    "\n",
    "    clf = LogisticRegression(random_state=0, max_iter=1000).fit(X_train, y_train)\n",
    "    y_pred = clf.predict(X_test)\n",
    "    return clf, y_test, y_pred, np.mean(y_pred == y_test)\n"
   ]
  },
  {
   "cell_type": "code",
   "execution_count": null,
   "metadata": {},
   "outputs": [],
   "source": [
    "from collections import defaultdict\n",
    "\n",
    "\n",
    "TRAIN_SIZE = 0.66\n",
    "num_samples = len(GEX.obs)\n",
    "\n",
    "# create train/test split, same for all models\n",
    "np.random.seed(42)\n",
    "test_split = np.random.randn(num_samples) > TRAIN_SIZE  \n",
    "\n",
    "\n",
    "# evaluate different models\n",
    "# TODO: input your Z matrix here\n",
    "factor_methods = dict(\n",
    "    random_model = np.ones((num_samples, 10)),\n",
    "    mofa_model = ...,  # input your Z matrix here (samples x factors)\n",
    "    #... add more models here\n",
    ")\n",
    "\n",
    "model_results = defaultdict(dict)\n",
    "\n",
    "# evaluate different methods -  classification into cell types, smoker, gender\n",
    "evaluation_methods = dict(\n",
    "    cell_type=GEX.obs['cell_type'], \n",
    "    reduced_cell_type=reduced_cell_type,\n",
    "    smoker=GEX.obs['DonorSmoker'],\n",
    "    gender=GEX.obs['DonorGender'],\n",
    ")"
   ]
  },
  {
   "cell_type": "code",
   "execution_count": null,
   "metadata": {},
   "outputs": [],
   "source": [
    "# run evaluation\n",
    "for model_name, feats in factor_methods.items():\n",
    "    print(model_name)\n",
    "    for method_name, labels in evaluation_methods.items():\n",
    "        acc = np.mean(labels[test_split] == np.random.choice(labels))\n",
    "\n",
    "        clf, y_test, y_pred, acc = linreg_eval(feats, labels, test_split)\n",
    "        print(f\"{method_name} accuracy:\", f'{acc:.2f}')\n",
    "        \n",
    "        model_results[model_name][method_name] = acc\n",
    "    print()\n"
   ]
  }
 ],
 "metadata": {
  "kernelspec": {
   "display_name": "Python (deeplife2)",
   "language": "python",
   "name": "envname"
  },
  "language_info": {
   "codemirror_mode": {
    "name": "ipython",
    "version": 3
   },
   "file_extension": ".py",
   "mimetype": "text/x-python",
   "name": "python",
   "nbconvert_exporter": "python",
   "pygments_lexer": "ipython3",
   "version": "3.12.3"
  }
 },
 "nbformat": 4,
 "nbformat_minor": 2
}
