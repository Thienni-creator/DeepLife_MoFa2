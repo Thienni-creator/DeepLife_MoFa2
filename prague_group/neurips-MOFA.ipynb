{
 "cells": [
  {
   "cell_type": "code",
   "execution_count": 3,
   "id": "d7120083-c7f7-4fbc-a718-29ed1edefe09",
   "metadata": {
    "ExecuteTime": {
     "end_time": "2024-06-01T08:01:19.060734Z",
     "start_time": "2024-06-01T08:01:19.048876Z"
    },
    "editable": true,
    "slideshow": {
     "slide_type": ""
    },
    "tags": []
   },
   "outputs": [
    {
     "name": "stdout",
     "output_type": "stream",
     "text": [
      "The autoreload extension is already loaded. To reload it, use:\n",
      "  %reload_ext autoreload\n"
     ]
    }
   ],
   "source": [
    "import scanpy as sc\n",
    "import muon as mu\n",
    "import numpy as np\n",
    "import pandas as pd\n",
    "import mofax as mofa\n",
    "import seaborn as sns\n",
    "import matplotlib.pyplot as plt\n",
    "import pyro\n",
    "import torch\n",
    "import torch.nn.functional as F\n",
    "import random\n",
    "import seaborn as sns\n",
    "import muon as mu\n",
    "import anndata\n",
    "import scipy.sparse\n",
    "\n",
    "device = torch.device(\"cuda\" if torch.cuda.is_available() else \"cpu\")\n",
    "# device = torch.device(\"cpu\")\n",
    "\n",
    "def to_device(t): return torch.tensor(t).to(device)\n",
    "\n",
    "%load_ext autoreload\n",
    "%autoreload 2\n",
    "import pyromofa\n"
   ]
  },
  {
   "cell_type": "code",
   "execution_count": 4,
   "id": "45e0d5bd-c307-4b4d-9b9d-ef46a02dc580",
   "metadata": {
    "ExecuteTime": {
     "end_time": "2024-06-01T08:01:25.387204Z",
     "start_time": "2024-06-01T08:01:20.058306Z"
    }
   },
   "outputs": [
    {
     "name": "stderr",
     "output_type": "stream",
     "text": [
      "/scratch/venvs/deeplife2/lib/python3.12/site-packages/anndata/_core/anndata.py:1820: UserWarning: Variable names are not unique. To make them unique, call `.var_names_make_unique`.\n",
      "  utils.warn_names_duplicates(\"var\")\n"
     ]
    }
   ],
   "source": [
    "# dir=\"/scratch/deeplife/\"\n",
    "dir=\"/scratch/deeplife/projekt/data/\"\n",
    "neurips = anndata.read_h5ad(dir+\"neurips2021.h5ad\")\n",
    "neurips.var_names_make_unique()\n",
    "neurips.layers[\"counts\"] = neurips.X.copy()"
   ]
  },
  {
   "cell_type": "code",
   "execution_count": 5,
   "id": "8c95a25a-bc4d-43ca-9a2e-bb4f45d1ed1d",
   "metadata": {
    "ExecuteTime": {
     "end_time": "2024-06-01T08:01:26.223901Z",
     "start_time": "2024-06-01T08:01:25.368144Z"
    }
   },
   "outputs": [],
   "source": [
    "protein = neurips[:, neurips.var[\"feature_types\"] == \"ADT\"].copy()\n",
    "rna = neurips[:, neurips.var[\"feature_types\"] == \"GEX\"].copy()\n",
    "rna = rna[:, rna.X.sum(axis=0) > 10].copy()\n",
    "datasets = {\n",
    "    'rna': rna.X,\n",
    "    'protein': protein.X,\n",
    "}"
   ]
  },
  {
   "cell_type": "code",
   "execution_count": 6,
   "id": "6b384fdc-4864-44e3-bffd-c7ca858d52a5",
   "metadata": {
    "ExecuteTime": {
     "end_time": "2024-06-01T07:46:53.288286Z",
     "start_time": "2024-06-01T07:40:36.738842Z"
    },
    "scrolled": true
   },
   "outputs": [
    {
     "name": "stderr",
     "output_type": "stream",
     "text": [
      "/scratch/deeplife/DeepLife_MoFa2/prague_group/pyromofa.py:25: UserWarning: Sparse CSR tensor support is in beta state. If you miss a functionality in the sparse tensor support, please submit a feature request to https://github.com/pytorch/pytorch/issues. (Triggered internally at ../aten/src/ATen/SparseCsrTensorImpl.cpp:53.)\n",
      "  return torch.sparse_csr_tensor(matrix.indptr, matrix.indices, matrix.data, size=matrix.shape, device=device)\n"
     ]
    },
    {
     "name": "stdout",
     "output_type": "stream",
     "text": [
      "Observation masks: {'rna': None, 'protein': None}\n"
     ]
    },
    {
     "name": "stderr",
     "output_type": "stream",
     "text": [
      "/scratch/venvs/deeplife2/lib/python3.12/site-packages/pyro/util.py:365: UserWarning: Found plate statements in guide but not model: {'latent factors'}\n",
      "  warnings.warn(\n",
      "/scratch/venvs/deeplife2/lib/python3.12/site-packages/pyro/util.py:544: UserWarning: s_rnaFound sample sites configured for enumeration:, s_protein\n",
      "If you want to enumerate sites, you need to use TraceEnum_ELBO instead.\n",
      "  warnings.warn(\n",
      "/scratch/venvs/deeplife2/lib/python3.12/site-packages/pyro/util.py:365: UserWarning: Found plate statements in guide but not model: {'latent factors'}\n",
      "  warnings.warn(\n",
      "/scratch/venvs/deeplife2/lib/python3.12/site-packages/pyro/util.py:544: UserWarning: s_rnaFound sample sites configured for enumeration:, s_protein\n",
      "If you want to enumerate sites, you need to use TraceEnum_ELBO instead.\n",
      "  warnings.warn(\n"
     ]
    },
    {
     "name": "stdout",
     "output_type": "stream",
     "text": [
      "[00:02 iteration 01:00023] loss: 15881.2924\n",
      "[00:04 iteration 02:00046] loss: 15425.9084\n",
      "[00:06 iteration 03:00069] loss: 14961.1221\n",
      "[00:07 iteration 04:00092] loss: 14489.1569\n",
      "[00:09 iteration 05:00115] loss: 14188.6953\n",
      "[00:11 iteration 06:00138] loss: 13719.0384\n",
      "[00:13 iteration 07:00161] loss: 13286.2277\n",
      "[00:14 iteration 08:00184] loss: 12954.1431\n",
      "[00:16 iteration 09:00207] loss: 12626.2008\n",
      "[00:18 iteration 10:00230] loss: 12271.1382\n",
      "[00:20 iteration 11:00253] loss: 11957.0178\n",
      "[00:21 iteration 12:00276] loss: 11660.4090\n",
      "[00:23 iteration 13:00299] loss: 11310.6917\n",
      "[00:25 iteration 14:00322] loss: 11124.2696\n",
      "[00:27 iteration 15:00345] loss: 10810.0106\n",
      "[00:28 iteration 16:00368] loss: 10575.9096\n",
      "[01:30 iteration 17:00391] loss: 10355.1003\n",
      "[01:32 iteration 18:00414] loss: 10127.6124\n",
      "[01:33 iteration 19:00437] loss: 9955.7127\n",
      "[01:35 iteration 20:00460] loss: 9698.5544\n",
      "[01:37 iteration 21:00483] loss: 9523.3654\n",
      "[01:39 iteration 22:00506] loss: 9383.9928\n",
      "[01:40 iteration 23:00529] loss: 9181.5501\n",
      "[01:42 iteration 24:00552] loss: 8991.7254\n",
      "[01:44 iteration 25:00575] loss: 8849.2550\n",
      "[01:46 iteration 26:00598] loss: 8696.9638\n",
      "[01:47 iteration 27:00621] loss: 8580.9129\n",
      "[01:49 iteration 28:00644] loss: 8473.3991\n",
      "[01:51 iteration 29:00667] loss: 8431.3191\n",
      "[01:53 iteration 30:00690] loss: 8276.7352\n",
      "[01:54 iteration 31:00713] loss: 8046.1037\n",
      "[01:56 iteration 32:00736] loss: 8043.3502\n",
      "[01:58 iteration 33:00759] loss: 7971.6622\n",
      "[01:59 iteration 34:00782] loss: 7807.3774\n",
      "[01:01 iteration 35:00805] loss: 7661.2884\n",
      "[01:03 iteration 36:00828] loss: 7484.8580\n",
      "[01:05 iteration 37:00851] loss: 7199.3766\n",
      "[01:06 iteration 38:00874] loss: 6873.1439\n",
      "[01:08 iteration 39:00897] loss: 6239.1500\n",
      "[01:10 iteration 40:00920] loss: 5453.8782\n",
      "[01:12 iteration 41:00943] loss: 4009.7504\n",
      "[01:13 iteration 42:00966] loss: 1701.7366\n",
      "[01:15 iteration 43:00989] loss: -1656.8224\n",
      "[01:17 iteration 44:01012] loss: -7133.0481\n",
      "[01:18 iteration 45:01035] loss: -16867.4259\n",
      "[01:20 iteration 46:01058] loss: -32225.7472\n",
      "[01:22 iteration 47:01081] loss: -50919.5986\n",
      "[01:24 iteration 48:01104] loss: -91671.5132\n",
      "[01:25 iteration 49:01127] loss: -145051.4209\n",
      "[01:27 iteration 50:01150] loss: -261556.4189\n",
      "[01:29 iteration 51:01173] loss: -422257.3097\n",
      "[02:31 iteration 52:01196] loss: -688731.6424\n",
      "[02:32 iteration 53:01219] loss: -995751.0217\n",
      "[02:34 iteration 54:01242] loss: -1750486.4284\n",
      "[02:36 iteration 55:01265] loss: -2913115.6621\n",
      "[02:38 iteration 56:01288] loss: -4629960.4484\n",
      "[02:39 iteration 57:01311] loss: -7504032.6411\n",
      "[02:41 iteration 58:01334] loss: -11381290.7567\n",
      "[02:43 iteration 59:01357] loss: -19402524.2135\n",
      "[02:44 iteration 60:01380] loss: -31553001.6321\n",
      "[02:46 iteration 61:01403] loss: -50044956.6877\n",
      "[02:48 iteration 62:01426] loss: -80023960.6975\n",
      "[02:50 iteration 63:01449] loss: -129592504.7106\n",
      "[02:51 iteration 64:01472] loss: -211867134.9108\n",
      "[02:53 iteration 65:01495] loss: -333392873.8427\n",
      "[02:55 iteration 66:01518] loss: -543427231.2814\n",
      "[02:57 iteration 67:01541] loss: -854771173.3496\n",
      "[02:58 iteration 68:01564] loss: -1401799405.4557\n",
      "[02:00 iteration 69:01587] loss: -2264649481.7758\n",
      "[02:02 iteration 70:01610] loss: -3593985666.7259\n",
      "[02:04 iteration 71:01633] loss: -5833560123.6013\n",
      "[02:05 iteration 72:01656] loss: -9355610974.6926\n",
      "[02:07 iteration 73:01679] loss: -15234704931.6778\n",
      "[02:09 iteration 74:01702] loss: -24685943764.5334\n",
      "[02:10 iteration 75:01725] loss: -39131707294.5408\n",
      "[02:12 iteration 76:01748] loss: -65029967148.5574\n",
      "[02:14 iteration 77:01771] loss: -103106290602.7252\n",
      "[02:16 iteration 78:01794] loss: -165265747498.5964\n",
      "[02:17 iteration 79:01817] loss: -259134759644.5246\n",
      "[02:19 iteration 80:01840] loss: -439522690042.0383\n",
      "[02:21 iteration 81:01863] loss: -689997624897.3478\n",
      "[02:23 iteration 82:01886] loss: -1164070268497.4712\n",
      "[02:24 iteration 83:01909] loss: -1773310640051.9507\n",
      "[02:26 iteration 84:01932] loss: -2914580556802.2524\n",
      "[02:28 iteration 85:01955] loss: -4789561957954.5850\n",
      "[02:29 iteration 86:01978] loss: -8049064367378.5654\n",
      "[03:31 iteration 87:02001] loss: -12831137822038.5762\n",
      "[03:33 iteration 88:02024] loss: -20017603332202.9180\n",
      "[03:35 iteration 89:02047] loss: -34298795514626.9453\n",
      "[03:36 iteration 90:02070] loss: -54972048374082.6797\n",
      "dict_keys(['AutoGuideList.0.locs.theta_rna', 'AutoGuideList.0.scales.theta_rna', 'AutoGuideList.0.locs.alpha_rna', 'AutoGuideList.0.scales.alpha_rna', 'AutoGuideList.0.locs.W_rna', 'AutoGuideList.0.scales.W_rna', 'AutoGuideList.0.locs.theta_protein', 'AutoGuideList.0.scales.theta_protein', 'AutoGuideList.0.locs.alpha_protein', 'AutoGuideList.0.scales.alpha_protein', 'AutoGuideList.0.locs.W_protein', 'AutoGuideList.0.scales.W_protein', 'AutoGuideList.0.locs.Z', 'AutoGuideList.0.scales.Z', 'AutoGuideList.0.locs.precision_rna', 'AutoGuideList.0.scales.precision_rna', 'AutoGuideList.0.locs.scale_rna', 'AutoGuideList.0.scales.scale_rna', 'AutoGuideList.0.locs.precision_protein', 'AutoGuideList.0.scales.precision_protein', 'AutoGuideList.0.locs.scale_protein', 'AutoGuideList.0.scales.scale_protein', 'AutoGuideList.1.s_rna_probs', 'AutoGuideList.1.s_protein_probs'])\n"
     ]
    }
   ],
   "source": [
    "mofa = pyromofa.MOFA(datasets, K=10, batch_size=4096)\n",
    "loss, map_estimates, trained_guide = mofa.train_epochs(num_epochs=90)\n",
    "mofa_matrices = mofa.get_matrices()"
   ]
  },
  {
   "cell_type": "code",
   "execution_count": 13,
   "id": "a6d99345-0c4a-4bb3-ab19-03b8e93619f2",
   "metadata": {},
   "outputs": [
    {
     "data": {
      "text/plain": [
       "[<matplotlib.lines.Line2D at 0x7131b0225be0>]"
      ]
     },
     "execution_count": 13,
     "metadata": {},
     "output_type": "execute_result"
    },
    {
     "data": {
      "image/png": "[encoded data removed]",
      "text/plain": [
       "<Figure size 640x480 with 1 Axes>"
      ]
     },
     "metadata": {},
     "output_type": "display_data"
    }
   ],
   "source": [
    "plt.plot(loss[:900])"
   ]
  },
  {
   "cell_type": "code",
   "execution_count": 86,
   "id": "ab46592f-4ba3-4be1-a7f8-096fe11126f1",
   "metadata": {},
   "outputs": [],
   "source": [
    "# sns.heatmap(mofa_matrices.Ws['rna'].T)"
   ]
  },
  {
   "cell_type": "code",
   "execution_count": 8,
   "id": "d3365765",
   "metadata": {},
   "outputs": [
    {
     "data": {
      "text/plain": [
       "tensor(0.2849, device='cuda:0', grad_fn=<MinBackward1>)"
      ]
     },
     "execution_count": 8,
     "metadata": {},
     "output_type": "execute_result"
    }
   ],
   "source": [
    "#mofa.train(num_iterations=40000)\n",
    "trained_guide()['scale_protein'].min()"
   ]
  },
  {
   "cell_type": "code",
   "execution_count": 37,
   "id": "62617e41",
   "metadata": {},
   "outputs": [
    {
     "name": "stdout",
     "output_type": "stream",
     "text": [
      "dict_keys(['AutoGuideList.0.locs.theta_rna', 'AutoGuideList.0.scales.theta_rna', 'AutoGuideList.0.locs.alpha_rna', 'AutoGuideList.0.scales.alpha_rna', 'AutoGuideList.0.locs.W_rna', 'AutoGuideList.0.scales.W_rna', 'AutoGuideList.0.locs.theta_protein', 'AutoGuideList.0.scales.theta_protein', 'AutoGuideList.0.locs.alpha_protein', 'AutoGuideList.0.scales.alpha_protein', 'AutoGuideList.0.locs.W_protein', 'AutoGuideList.0.scales.W_protein', 'AutoGuideList.0.locs.Z', 'AutoGuideList.0.scales.Z', 'AutoGuideList.0.locs.precision_rna', 'AutoGuideList.0.scales.precision_rna', 'AutoGuideList.0.locs.scale_rna', 'AutoGuideList.0.scales.scale_rna', 'AutoGuideList.0.locs.precision_protein', 'AutoGuideList.0.scales.precision_protein', 'AutoGuideList.0.locs.scale_protein', 'AutoGuideList.0.scales.scale_protein', 'AutoGuideList.1.s_rna_probs', 'AutoGuideList.1.s_protein_probs'])\n"
     ]
    }
   ],
   "source": [
    "print(pyro.get_param_store().keys())"
   ]
  },
  {
   "cell_type": "code",
   "execution_count": 46,
   "id": "134d82a2-d2dc-4e14-86f7-d729085d4a7c",
   "metadata": {},
   "outputs": [
    {
     "data": {
      "text/plain": [
       "Parameter containing:\n",
       "tensor([0.6259, 1.2300, 1.8438, 1.8469, 1.8140], device='cuda:0',\n",
       "       requires_grad=True)"
      ]
     },
     "execution_count": 46,
     "metadata": {},
     "output_type": "execute_result"
    }
   ],
   "source": [
    "pyro.get_param_store()['AutoGuideList.0.locs.theta_rna']"
   ]
  },
  {
   "cell_type": "code",
   "execution_count": 17,
   "id": "ccb3e95b-8971-4449-8922-0629a22f8b81",
   "metadata": {
    "editable": true,
    "slideshow": {
     "slide_type": ""
    },
    "tags": []
   },
   "outputs": [
    {
     "data": {
      "text/plain": [
       "{'rna': 0.0001837015151977539, 'protein': -0.7931164503097534}"
      ]
     },
     "execution_count": 17,
     "metadata": {},
     "output_type": "execute_result"
    }
   ],
   "source": [
    "R2 = { m:\n",
    "          1 - np.sum(\n",
    "              (\n",
    "                  np.expm1(\n",
    "                      mofa_matrices.Z.numpy() @ mofa_matrices.Ws[m].numpy().T * mofa.empirical_stds[m].cpu().numpy()\n",
    "                      + mofa.empirical_means[m].cpu().numpy()\n",
    "                  ) - Y.A\n",
    "              ) ** 2\n",
    "          ) / Y.power(2).sum() for m, Y in datasets.items() }\n",
    "R2"
   ]
  },
  {
   "cell_type": "code",
   "execution_count": 16,
   "id": "715806f8-48be-4ea8-9963-c7594e5ec31d",
   "metadata": {
    "editable": true,
    "slideshow": {
     "slide_type": ""
    },
    "tags": []
   },
   "outputs": [
    {
     "data": {
      "text/plain": [
       "{'rna': 0.49918293952941895, 'protein': 0.6181584894657135}"
      ]
     },
     "execution_count": 16,
     "metadata": {},
     "output_type": "execute_result"
    }
   ],
   "source": [
    "R2 = { m:\n",
    "          1 - np.sum(\n",
    "              (\n",
    "                  (mofa_matrices.Z.numpy() @ mofa_matrices.Ws[m].numpy().T * mofa.empirical_stds[m].cpu().numpy() + mofa.empirical_means[m].cpu().numpy()) - Y.log1p().A\n",
    "              ) ** 2\n",
    "          ) / Y.log1p().power(2).sum() for m, Y in datasets.items() }\n",
    "R2"
   ]
  },
  {
   "cell_type": "code",
   "execution_count": 101,
   "id": "6819004d-aa2f-45fd-82a2-b97f3d5dd748",
   "metadata": {},
   "outputs": [
    {
     "name": "stdout",
     "output_type": "stream",
     "text": [
      "dict_keys(['AutoGuideList.0.locs.alpha_rna', 'AutoGuideList.0.scales.alpha_rna', 'AutoGuideList.0.locs.W_rna', 'AutoGuideList.0.scales.W_rna', 'AutoGuideList.0.locs.alpha_protein', 'AutoGuideList.0.scales.alpha_protein', 'AutoGuideList.0.locs.W_protein', 'AutoGuideList.0.scales.W_protein', 'AutoGuideList.0.locs.Z', 'AutoGuideList.0.scales.Z', 'AutoGuideList.0.locs.precision_rna', 'AutoGuideList.0.scales.precision_rna', 'AutoGuideList.0.locs.scale_rna', 'AutoGuideList.0.scales.scale_rna', 'AutoGuideList.0.locs.precision_protein', 'AutoGuideList.0.scales.precision_protein', 'AutoGuideList.0.locs.scale_protein', 'AutoGuideList.0.scales.scale_protein'])\n"
     ]
    }
   ],
   "source": [
    "mofa.save_h5(neurips.obs.index, { \"rna\": rna, \"protein\": protein }, \"/scratch/deeplife/projekt/models/pyro-MOFA-neurips2.h5\", compression=1)\n",
    "np.savez(\"/scratch/deeplife/projekt/models/pyro-MOFA-neurips.npz\", Z=mofa_matrices.Z)"
   ]
  },
  {
   "cell_type": "code",
   "execution_count": 71,
   "id": "79ec1f00-8f81-46bb-bb86-1db81873d6c7",
   "metadata": {},
   "outputs": [],
   "source": [
    "import mofax\n",
    "mofax_model = mofax.mofa_model('/scratch/deeplife/projekt/models/pyro-MOFA-neurips2.h5')"
   ]
  },
  {
   "cell_type": "code",
   "execution_count": 72,
   "id": "a568041b-d04e-4663-940c-cc4c03635231",
   "metadata": {},
   "outputs": [
    {
     "name": "stdout",
     "output_type": "stream",
     "text": [
      "(10, 90261) (10, 134)\n"
     ]
    },
    {
     "name": "stderr",
     "output_type": "stream",
     "text": [
      "/scratch/venvs/deeplife2/lib/python3.12/site-packages/mofax/core.py:1003: FutureWarning: The frame.append method is deprecated and will be removed from pandas in a future version. Use pandas.concat instead.\n",
      "  r2_df = r2_df.append(\n",
      "/scratch/venvs/deeplife2/lib/python3.12/site-packages/mofax/core.py:1003: FutureWarning: The frame.append method is deprecated and will be removed from pandas in a future version. Use pandas.concat instead.\n",
      "  r2_df = r2_df.append(\n",
      "/scratch/venvs/deeplife2/lib/python3.12/site-packages/mofax/core.py:1093: FutureWarning: The frame.append method is deprecated and will be removed from pandas in a future version. Use pandas.concat instead.\n",
      "  r2 = r2.append(tmp)\n",
      "/scratch/venvs/deeplife2/lib/python3.12/site-packages/mofax/core.py:1003: FutureWarning: The frame.append method is deprecated and will be removed from pandas in a future version. Use pandas.concat instead.\n",
      "  r2_df = r2_df.append(\n",
      "/scratch/venvs/deeplife2/lib/python3.12/site-packages/mofax/core.py:1003: FutureWarning: The frame.append method is deprecated and will be removed from pandas in a future version. Use pandas.concat instead.\n",
      "  r2_df = r2_df.append(\n",
      "/scratch/venvs/deeplife2/lib/python3.12/site-packages/mofax/core.py:1093: FutureWarning: The frame.append method is deprecated and will be removed from pandas in a future version. Use pandas.concat instead.\n",
      "  r2 = r2.append(tmp)\n",
      "/scratch/venvs/deeplife2/lib/python3.12/site-packages/mofax/core.py:1003: FutureWarning: The frame.append method is deprecated and will be removed from pandas in a future version. Use pandas.concat instead.\n",
      "  r2_df = r2_df.append(\n",
      "/scratch/venvs/deeplife2/lib/python3.12/site-packages/mofax/core.py:1003: FutureWarning: The frame.append method is deprecated and will be removed from pandas in a future version. Use pandas.concat instead.\n",
      "  r2_df = r2_df.append(\n",
      "/scratch/venvs/deeplife2/lib/python3.12/site-packages/mofax/core.py:1093: FutureWarning: The frame.append method is deprecated and will be removed from pandas in a future version. Use pandas.concat instead.\n",
      "  r2 = r2.append(tmp)\n",
      "/scratch/venvs/deeplife2/lib/python3.12/site-packages/mofax/core.py:1003: FutureWarning: The frame.append method is deprecated and will be removed from pandas in a future version. Use pandas.concat instead.\n",
      "  r2_df = r2_df.append(\n",
      "/scratch/venvs/deeplife2/lib/python3.12/site-packages/mofax/core.py:1003: FutureWarning: The frame.append method is deprecated and will be removed from pandas in a future version. Use pandas.concat instead.\n",
      "  r2_df = r2_df.append(\n",
      "/scratch/venvs/deeplife2/lib/python3.12/site-packages/mofax/core.py:1093: FutureWarning: The frame.append method is deprecated and will be removed from pandas in a future version. Use pandas.concat instead.\n",
      "  r2 = r2.append(tmp)\n",
      "/scratch/venvs/deeplife2/lib/python3.12/site-packages/mofax/core.py:1003: FutureWarning: The frame.append method is deprecated and will be removed from pandas in a future version. Use pandas.concat instead.\n",
      "  r2_df = r2_df.append(\n",
      "/scratch/venvs/deeplife2/lib/python3.12/site-packages/mofax/core.py:1003: FutureWarning: The frame.append method is deprecated and will be removed from pandas in a future version. Use pandas.concat instead.\n",
      "  r2_df = r2_df.append(\n",
      "/scratch/venvs/deeplife2/lib/python3.12/site-packages/mofax/core.py:1093: FutureWarning: The frame.append method is deprecated and will be removed from pandas in a future version. Use pandas.concat instead.\n",
      "  r2 = r2.append(tmp)\n",
      "/scratch/venvs/deeplife2/lib/python3.12/site-packages/mofax/core.py:1003: FutureWarning: The frame.append method is deprecated and will be removed from pandas in a future version. Use pandas.concat instead.\n",
      "  r2_df = r2_df.append(\n",
      "/scratch/venvs/deeplife2/lib/python3.12/site-packages/mofax/core.py:1003: FutureWarning: The frame.append method is deprecated and will be removed from pandas in a future version. Use pandas.concat instead.\n",
      "  r2_df = r2_df.append(\n",
      "/scratch/venvs/deeplife2/lib/python3.12/site-packages/mofax/core.py:1093: FutureWarning: The frame.append method is deprecated and will be removed from pandas in a future version. Use pandas.concat instead.\n",
      "  r2 = r2.append(tmp)\n",
      "/scratch/venvs/deeplife2/lib/python3.12/site-packages/mofax/core.py:1003: FutureWarning: The frame.append method is deprecated and will be removed from pandas in a future version. Use pandas.concat instead.\n",
      "  r2_df = r2_df.append(\n",
      "/scratch/venvs/deeplife2/lib/python3.12/site-packages/mofax/core.py:1003: FutureWarning: The frame.append method is deprecated and will be removed from pandas in a future version. Use pandas.concat instead.\n",
      "  r2_df = r2_df.append(\n",
      "/scratch/venvs/deeplife2/lib/python3.12/site-packages/mofax/core.py:1093: FutureWarning: The frame.append method is deprecated and will be removed from pandas in a future version. Use pandas.concat instead.\n",
      "  r2 = r2.append(tmp)\n",
      "/scratch/venvs/deeplife2/lib/python3.12/site-packages/mofax/core.py:1003: FutureWarning: The frame.append method is deprecated and will be removed from pandas in a future version. Use pandas.concat instead.\n",
      "  r2_df = r2_df.append(\n",
      "/scratch/venvs/deeplife2/lib/python3.12/site-packages/mofax/core.py:1003: FutureWarning: The frame.append method is deprecated and will be removed from pandas in a future version. Use pandas.concat instead.\n",
      "  r2_df = r2_df.append(\n",
      "/scratch/venvs/deeplife2/lib/python3.12/site-packages/mofax/core.py:1093: FutureWarning: The frame.append method is deprecated and will be removed from pandas in a future version. Use pandas.concat instead.\n",
      "  r2 = r2.append(tmp)\n",
      "/scratch/venvs/deeplife2/lib/python3.12/site-packages/mofax/core.py:1003: FutureWarning: The frame.append method is deprecated and will be removed from pandas in a future version. Use pandas.concat instead.\n",
      "  r2_df = r2_df.append(\n",
      "/scratch/venvs/deeplife2/lib/python3.12/site-packages/mofax/core.py:1003: FutureWarning: The frame.append method is deprecated and will be removed from pandas in a future version. Use pandas.concat instead.\n",
      "  r2_df = r2_df.append(\n",
      "/scratch/venvs/deeplife2/lib/python3.12/site-packages/mofax/core.py:1093: FutureWarning: The frame.append method is deprecated and will be removed from pandas in a future version. Use pandas.concat instead.\n",
      "  r2 = r2.append(tmp)\n",
      "/scratch/venvs/deeplife2/lib/python3.12/site-packages/mofax/core.py:1003: FutureWarning: The frame.append method is deprecated and will be removed from pandas in a future version. Use pandas.concat instead.\n",
      "  r2_df = r2_df.append(\n",
      "/scratch/venvs/deeplife2/lib/python3.12/site-packages/mofax/core.py:1003: FutureWarning: The frame.append method is deprecated and will be removed from pandas in a future version. Use pandas.concat instead.\n",
      "  r2_df = r2_df.append(\n",
      "/scratch/venvs/deeplife2/lib/python3.12/site-packages/mofax/core.py:1093: FutureWarning: The frame.append method is deprecated and will be removed from pandas in a future version. Use pandas.concat instead.\n",
      "  r2 = r2.append(tmp)\n"
     ]
    },
    {
     "data": {
      "image/png": "[encoded data removed]",
      "text/plain": [
       "<Figure size 640x480 with 2 Axes>"
      ]
     },
     "execution_count": 72,
     "metadata": {},
     "output_type": "execute_result"
    }
   ],
   "source": [
    "mofax_model\n",
    "print(mofax_model.factors['group1'].shape, mofax_model.weights['protein'].shape)\n",
    "mofax.plot_r2(mofax_model, x='View', vmax=15)"
   ]
  },
  {
   "cell_type": "code",
   "execution_count": 100,
   "id": "f1144add-0755-402b-a146-c605ee5597c5",
   "metadata": {},
   "outputs": [
    {
     "name": "stderr",
     "output_type": "stream",
     "text": [
      "/scratch/venvs/deeplife2/lib/python3.12/site-packages/mofax/core.py:1003: FutureWarning: The frame.append method is deprecated and will be removed from pandas in a future version. Use pandas.concat instead.\n",
      "  r2_df = r2_df.append(\n",
      "/scratch/venvs/deeplife2/lib/python3.12/site-packages/mofax/core.py:1003: FutureWarning: The frame.append method is deprecated and will be removed from pandas in a future version. Use pandas.concat instead.\n",
      "  r2_df = r2_df.append(\n",
      "/scratch/venvs/deeplife2/lib/python3.12/site-packages/mofax/core.py:1093: FutureWarning: The frame.append method is deprecated and will be removed from pandas in a future version. Use pandas.concat instead.\n",
      "  r2 = r2.append(tmp)\n",
      "/scratch/venvs/deeplife2/lib/python3.12/site-packages/mofax/core.py:1003: FutureWarning: The frame.append method is deprecated and will be removed from pandas in a future version. Use pandas.concat instead.\n",
      "  r2_df = r2_df.append(\n",
      "/scratch/venvs/deeplife2/lib/python3.12/site-packages/mofax/core.py:1003: FutureWarning: The frame.append method is deprecated and will be removed from pandas in a future version. Use pandas.concat instead.\n",
      "  r2_df = r2_df.append(\n",
      "/scratch/venvs/deeplife2/lib/python3.12/site-packages/mofax/core.py:1093: FutureWarning: The frame.append method is deprecated and will be removed from pandas in a future version. Use pandas.concat instead.\n",
      "  r2 = r2.append(tmp)\n",
      "/scratch/venvs/deeplife2/lib/python3.12/site-packages/mofax/core.py:1003: FutureWarning: The frame.append method is deprecated and will be removed from pandas in a future version. Use pandas.concat instead.\n",
      "  r2_df = r2_df.append(\n",
      "/scratch/venvs/deeplife2/lib/python3.12/site-packages/mofax/core.py:1003: FutureWarning: The frame.append method is deprecated and will be removed from pandas in a future version. Use pandas.concat instead.\n",
      "  r2_df = r2_df.append(\n",
      "/scratch/venvs/deeplife2/lib/python3.12/site-packages/mofax/core.py:1093: FutureWarning: The frame.append method is deprecated and will be removed from pandas in a future version. Use pandas.concat instead.\n",
      "  r2 = r2.append(tmp)\n",
      "/scratch/venvs/deeplife2/lib/python3.12/site-packages/mofax/core.py:1003: FutureWarning: The frame.append method is deprecated and will be removed from pandas in a future version. Use pandas.concat instead.\n",
      "  r2_df = r2_df.append(\n",
      "/scratch/venvs/deeplife2/lib/python3.12/site-packages/mofax/core.py:1003: FutureWarning: The frame.append method is deprecated and will be removed from pandas in a future version. Use pandas.concat instead.\n",
      "  r2_df = r2_df.append(\n",
      "/scratch/venvs/deeplife2/lib/python3.12/site-packages/mofax/core.py:1093: FutureWarning: The frame.append method is deprecated and will be removed from pandas in a future version. Use pandas.concat instead.\n",
      "  r2 = r2.append(tmp)\n",
      "/scratch/venvs/deeplife2/lib/python3.12/site-packages/mofax/core.py:1003: FutureWarning: The frame.append method is deprecated and will be removed from pandas in a future version. Use pandas.concat instead.\n",
      "  r2_df = r2_df.append(\n",
      "/scratch/venvs/deeplife2/lib/python3.12/site-packages/mofax/core.py:1003: FutureWarning: The frame.append method is deprecated and will be removed from pandas in a future version. Use pandas.concat instead.\n",
      "  r2_df = r2_df.append(\n",
      "/scratch/venvs/deeplife2/lib/python3.12/site-packages/mofax/core.py:1093: FutureWarning: The frame.append method is deprecated and will be removed from pandas in a future version. Use pandas.concat instead.\n",
      "  r2 = r2.append(tmp)\n",
      "/scratch/venvs/deeplife2/lib/python3.12/site-packages/mofax/core.py:1003: FutureWarning: The frame.append method is deprecated and will be removed from pandas in a future version. Use pandas.concat instead.\n",
      "  r2_df = r2_df.append(\n",
      "/scratch/venvs/deeplife2/lib/python3.12/site-packages/mofax/core.py:1003: FutureWarning: The frame.append method is deprecated and will be removed from pandas in a future version. Use pandas.concat instead.\n",
      "  r2_df = r2_df.append(\n",
      "/scratch/venvs/deeplife2/lib/python3.12/site-packages/mofax/core.py:1093: FutureWarning: The frame.append method is deprecated and will be removed from pandas in a future version. Use pandas.concat instead.\n",
      "  r2 = r2.append(tmp)\n",
      "/scratch/venvs/deeplife2/lib/python3.12/site-packages/mofax/core.py:1003: FutureWarning: The frame.append method is deprecated and will be removed from pandas in a future version. Use pandas.concat instead.\n",
      "  r2_df = r2_df.append(\n",
      "/scratch/venvs/deeplife2/lib/python3.12/site-packages/mofax/core.py:1003: FutureWarning: The frame.append method is deprecated and will be removed from pandas in a future version. Use pandas.concat instead.\n",
      "  r2_df = r2_df.append(\n",
      "/scratch/venvs/deeplife2/lib/python3.12/site-packages/mofax/core.py:1093: FutureWarning: The frame.append method is deprecated and will be removed from pandas in a future version. Use pandas.concat instead.\n",
      "  r2 = r2.append(tmp)\n",
      "/scratch/venvs/deeplife2/lib/python3.12/site-packages/mofax/core.py:1003: FutureWarning: The frame.append method is deprecated and will be removed from pandas in a future version. Use pandas.concat instead.\n",
      "  r2_df = r2_df.append(\n",
      "/scratch/venvs/deeplife2/lib/python3.12/site-packages/mofax/core.py:1003: FutureWarning: The frame.append method is deprecated and will be removed from pandas in a future version. Use pandas.concat instead.\n",
      "  r2_df = r2_df.append(\n",
      "/scratch/venvs/deeplife2/lib/python3.12/site-packages/mofax/core.py:1093: FutureWarning: The frame.append method is deprecated and will be removed from pandas in a future version. Use pandas.concat instead.\n",
      "  r2 = r2.append(tmp)\n",
      "/scratch/venvs/deeplife2/lib/python3.12/site-packages/mofax/core.py:1003: FutureWarning: The frame.append method is deprecated and will be removed from pandas in a future version. Use pandas.concat instead.\n",
      "  r2_df = r2_df.append(\n",
      "/scratch/venvs/deeplife2/lib/python3.12/site-packages/mofax/core.py:1003: FutureWarning: The frame.append method is deprecated and will be removed from pandas in a future version. Use pandas.concat instead.\n",
      "  r2_df = r2_df.append(\n",
      "/scratch/venvs/deeplife2/lib/python3.12/site-packages/mofax/core.py:1093: FutureWarning: The frame.append method is deprecated and will be removed from pandas in a future version. Use pandas.concat instead.\n",
      "  r2 = r2.append(tmp)\n",
      "/scratch/venvs/deeplife2/lib/python3.12/site-packages/mofax/core.py:1003: FutureWarning: The frame.append method is deprecated and will be removed from pandas in a future version. Use pandas.concat instead.\n",
      "  r2_df = r2_df.append(\n",
      "/scratch/venvs/deeplife2/lib/python3.12/site-packages/mofax/core.py:1003: FutureWarning: The frame.append method is deprecated and will be removed from pandas in a future version. Use pandas.concat instead.\n",
      "  r2_df = r2_df.append(\n",
      "/scratch/venvs/deeplife2/lib/python3.12/site-packages/mofax/core.py:1093: FutureWarning: The frame.append method is deprecated and will be removed from pandas in a future version. Use pandas.concat instead.\n",
      "  r2 = r2.append(tmp)\n"
     ]
    },
    {
     "data": {
      "text/html": [
       "<div>\n",
       "<style scoped>\n",
       "    .dataframe tbody tr th:only-of-type {\n",
       "        vertical-align: middle;\n",
       "    }\n",
       "\n",
       "    .dataframe tbody tr th {\n",
       "        vertical-align: top;\n",
       "    }\n",
       "\n",
       "    .dataframe thead th {\n",
       "        text-align: right;\n",
       "    }\n",
       "</style>\n",
       "<table border=\"1\" class=\"dataframe\">\n",
       "  <thead>\n",
       "    <tr style=\"text-align: right;\">\n",
       "      <th></th>\n",
       "      <th>View</th>\n",
       "      <th>Group</th>\n",
       "      <th>R2</th>\n",
       "      <th>Factor</th>\n",
       "    </tr>\n",
       "  </thead>\n",
       "  <tbody>\n",
       "    <tr>\n",
       "      <th>0</th>\n",
       "      <td>protein</td>\n",
       "      <td>group1</td>\n",
       "      <td>2.777487</td>\n",
       "      <td>Factor0</td>\n",
       "    </tr>\n",
       "    <tr>\n",
       "      <th>1</th>\n",
       "      <td>rna</td>\n",
       "      <td>group1</td>\n",
       "      <td>0.000656</td>\n",
       "      <td>Factor0</td>\n",
       "    </tr>\n",
       "    <tr>\n",
       "      <th>0</th>\n",
       "      <td>protein</td>\n",
       "      <td>group1</td>\n",
       "      <td>0.968140</td>\n",
       "      <td>Factor1</td>\n",
       "    </tr>\n",
       "    <tr>\n",
       "      <th>1</th>\n",
       "      <td>rna</td>\n",
       "      <td>group1</td>\n",
       "      <td>0.000525</td>\n",
       "      <td>Factor1</td>\n",
       "    </tr>\n",
       "    <tr>\n",
       "      <th>0</th>\n",
       "      <td>protein</td>\n",
       "      <td>group1</td>\n",
       "      <td>2.278841</td>\n",
       "      <td>Factor2</td>\n",
       "    </tr>\n",
       "    <tr>\n",
       "      <th>1</th>\n",
       "      <td>rna</td>\n",
       "      <td>group1</td>\n",
       "      <td>0.000268</td>\n",
       "      <td>Factor2</td>\n",
       "    </tr>\n",
       "    <tr>\n",
       "      <th>0</th>\n",
       "      <td>protein</td>\n",
       "      <td>group1</td>\n",
       "      <td>4.040116</td>\n",
       "      <td>Factor3</td>\n",
       "    </tr>\n",
       "    <tr>\n",
       "      <th>1</th>\n",
       "      <td>rna</td>\n",
       "      <td>group1</td>\n",
       "      <td>0.000578</td>\n",
       "      <td>Factor3</td>\n",
       "    </tr>\n",
       "    <tr>\n",
       "      <th>0</th>\n",
       "      <td>protein</td>\n",
       "      <td>group1</td>\n",
       "      <td>2.450657</td>\n",
       "      <td>Factor4</td>\n",
       "    </tr>\n",
       "    <tr>\n",
       "      <th>1</th>\n",
       "      <td>rna</td>\n",
       "      <td>group1</td>\n",
       "      <td>0.000709</td>\n",
       "      <td>Factor4</td>\n",
       "    </tr>\n",
       "    <tr>\n",
       "      <th>0</th>\n",
       "      <td>protein</td>\n",
       "      <td>group1</td>\n",
       "      <td>1.272362</td>\n",
       "      <td>Factor5</td>\n",
       "    </tr>\n",
       "    <tr>\n",
       "      <th>1</th>\n",
       "      <td>rna</td>\n",
       "      <td>group1</td>\n",
       "      <td>0.000399</td>\n",
       "      <td>Factor5</td>\n",
       "    </tr>\n",
       "    <tr>\n",
       "      <th>0</th>\n",
       "      <td>protein</td>\n",
       "      <td>group1</td>\n",
       "      <td>0.113940</td>\n",
       "      <td>Factor6</td>\n",
       "    </tr>\n",
       "    <tr>\n",
       "      <th>1</th>\n",
       "      <td>rna</td>\n",
       "      <td>group1</td>\n",
       "      <td>0.000459</td>\n",
       "      <td>Factor6</td>\n",
       "    </tr>\n",
       "    <tr>\n",
       "      <th>0</th>\n",
       "      <td>protein</td>\n",
       "      <td>group1</td>\n",
       "      <td>2.034283</td>\n",
       "      <td>Factor7</td>\n",
       "    </tr>\n",
       "    <tr>\n",
       "      <th>1</th>\n",
       "      <td>rna</td>\n",
       "      <td>group1</td>\n",
       "      <td>0.000620</td>\n",
       "      <td>Factor7</td>\n",
       "    </tr>\n",
       "    <tr>\n",
       "      <th>0</th>\n",
       "      <td>protein</td>\n",
       "      <td>group1</td>\n",
       "      <td>0.859606</td>\n",
       "      <td>Factor8</td>\n",
       "    </tr>\n",
       "    <tr>\n",
       "      <th>1</th>\n",
       "      <td>rna</td>\n",
       "      <td>group1</td>\n",
       "      <td>0.000644</td>\n",
       "      <td>Factor8</td>\n",
       "    </tr>\n",
       "    <tr>\n",
       "      <th>0</th>\n",
       "      <td>protein</td>\n",
       "      <td>group1</td>\n",
       "      <td>1.932591</td>\n",
       "      <td>Factor9</td>\n",
       "    </tr>\n",
       "    <tr>\n",
       "      <th>1</th>\n",
       "      <td>rna</td>\n",
       "      <td>group1</td>\n",
       "      <td>0.000495</td>\n",
       "      <td>Factor9</td>\n",
       "    </tr>\n",
       "  </tbody>\n",
       "</table>\n",
       "</div>"
      ],
      "text/plain": [
       "      View   Group        R2   Factor\n",
       "0  protein  group1  2.777487  Factor0\n",
       "1      rna  group1  0.000656  Factor0\n",
       "0  protein  group1  0.968140  Factor1\n",
       "1      rna  group1  0.000525  Factor1\n",
       "0  protein  group1  2.278841  Factor2\n",
       "1      rna  group1  0.000268  Factor2\n",
       "0  protein  group1  4.040116  Factor3\n",
       "1      rna  group1  0.000578  Factor3\n",
       "0  protein  group1  2.450657  Factor4\n",
       "1      rna  group1  0.000709  Factor4\n",
       "0  protein  group1  1.272362  Factor5\n",
       "1      rna  group1  0.000399  Factor5\n",
       "0  protein  group1  0.113940  Factor6\n",
       "1      rna  group1  0.000459  Factor6\n",
       "0  protein  group1  2.034283  Factor7\n",
       "1      rna  group1  0.000620  Factor7\n",
       "0  protein  group1  0.859606  Factor8\n",
       "1      rna  group1  0.000644  Factor8\n",
       "0  protein  group1  1.932591  Factor9\n",
       "1      rna  group1  0.000495  Factor9"
      ]
     },
     "execution_count": 100,
     "metadata": {},
     "output_type": "execute_result"
    }
   ],
   "source": [
    "mofax_model.get_r2()"
   ]
  },
  {
   "cell_type": "code",
   "execution_count": null,
   "id": "b7028b7c-c49c-4cfc-8765-44141e6a5b52",
   "metadata": {},
   "outputs": [],
   "source": [
    "protein_regen = mofa_matrices.Z @ mofa_matrices.Ws[\"protein\"].T"
   ]
  },
  {
   "cell_type": "code",
   "execution_count": null,
   "id": "c70f668a-cb4b-4766-9531-29a42878d31b",
   "metadata": {},
   "outputs": [
    {
     "data": {
      "text/plain": [
       "tensor([[48.7864, 50.1672, 34.5717,  ...,  3.5688,  3.5712,  4.3290],\n",
       "        [47.4409, 48.8288, 33.5734,  ...,  3.3584,  3.4070,  4.0482],\n",
       "        [43.4831, 44.8272, 30.7245,  ...,  2.8329,  2.9679,  3.3625],\n",
       "        ...,\n",
       "        [38.8808, 39.9130, 27.7137,  ...,  2.6211,  2.5719,  3.2265],\n",
       "        [48.1160, 49.6041, 33.9555,  ...,  3.3274,  3.4781,  3.9350],\n",
       "        [20.4948, 21.0338, 14.5923,  ...,  1.4712,  1.4299,  1.8209]])"
      ]
     },
     "execution_count": 14,
     "metadata": {},
     "output_type": "execute_result"
    }
   ],
   "source": [
    "protein_regen"
   ]
  },
  {
   "cell_type": "code",
   "execution_count": null,
   "id": "1dc8c7e6-c70b-4f35-acaa-62ba946dd9db",
   "metadata": {},
   "outputs": [
    {
     "data": {
      "text/plain": [
       "array([[ 12., 280.,   9., ...,   5.,   2.,   4.],\n",
       "       [ 24., 231.,  11., ...,   0.,   1.,   1.],\n",
       "       [ 23., 117.,   3., ...,   1.,   4.,   2.],\n",
       "       ...,\n",
       "       [279.,   6., 331., ...,   1.,   2.,   3.],\n",
       "       [ 11., 133.,  10., ...,   5.,   2.,   5.],\n",
       "       [441., 658.,   4., ...,   2.,   3.,   2.]], dtype=float32)"
      ]
     },
     "execution_count": 15,
     "metadata": {},
     "output_type": "execute_result"
    }
   ],
   "source": [
    "protein.X.toarray()"
   ]
  }
 ],
 "metadata": {
  "kernelspec": {
   "display_name": "Python (deeplife2)",
   "language": "python",
   "name": "envname"
  },
  "language_info": {
   "codemirror_mode": {
    "name": "ipython",
    "version": 3
   },
   "file_extension": ".py",
   "mimetype": "text/x-python",
   "name": "python",
   "nbconvert_exporter": "python",
   "pygments_lexer": "ipython3",
   "version": "3.12.3"
  }
 },
 "nbformat": 4,
 "nbformat_minor": 5
}
