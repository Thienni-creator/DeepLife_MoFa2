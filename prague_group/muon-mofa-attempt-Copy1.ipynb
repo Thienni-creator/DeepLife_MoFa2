{
 "cells": [
  {
   "cell_type": "code",
   "execution_count": 1,
   "id": "d7120083-c7f7-4fbc-a718-29ed1edefe09",
   "metadata": {
    "editable": true,
    "slideshow": {
     "slide_type": ""
    },
    "tags": []
   },
   "outputs": [
    {
     "name": "stderr",
     "output_type": "stream",
     "text": [
      "/scratch/venvs/deeplife2/lib/python3.12/site-packages/tqdm/auto.py:21: TqdmWarning: IProgress not found. Please update jupyter and ipywidgets. See https://ipywidgets.readthedocs.io/en/stable/user_install.html\n",
      "  from .autonotebook import tqdm as notebook_tqdm\n"
     ]
    }
   ],
   "source": [
    "import scanpy as sc\n",
    "import muon as mu\n",
    "import numpy as np\n",
    "import pandas as pd\n",
    "import mofax as mofa\n",
    "import seaborn as sns\n",
    "import matplotlib.pyplot as plt\n",
    "import pyro\n",
    "from pyro.nn import PyroSample, PyroModule\n",
    "from pyro.infer import SVI, Trace_ELBO, autoguide\n",
    "import torch\n",
    "import torch.nn.functional as F\n",
    "from torch.nn.functional import softplus\n",
    "from sklearn.metrics import mean_squared_error\n",
    "import random\n",
    "import seaborn as sns\n",
    "import muon as mu\n",
    "import anndata"
   ]
  },
  {
   "cell_type": "code",
   "execution_count": 2,
   "id": "45e0d5bd-c307-4b4d-9b9d-ef46a02dc580",
   "metadata": {},
   "outputs": [
    {
     "name": "stderr",
     "output_type": "stream",
     "text": [
      "/scratch/venvs/deeplife2/lib/python3.12/site-packages/anndata/_core/anndata.py:1820: UserWarning: Variable names are not unique. To make them unique, call `.var_names_make_unique`.\n",
      "  utils.warn_names_duplicates(\"var\")\n"
     ]
    }
   ],
   "source": [
    "# dir=\"/scratch/deeplife/\"\n",
    "dir=\"/scratch/deeplife/projekt/data/\"\n",
    "neurips = anndata.read_h5ad(dir+\"neurips2021.h5ad\")\n",
    "neurips.var_names_make_unique()\n",
    "neurips.layers[\"counts\"] = neurips.X.copy()\n",
    "sc.pp.log1p(neurips)"
   ]
  },
  {
   "cell_type": "code",
   "execution_count": 3,
   "id": "8c95a25a-bc4d-43ca-9a2e-bb4f45d1ed1d",
   "metadata": {},
   "outputs": [],
   "source": [
    "protein = neurips[:, neurips.var[\"feature_types\"] == \"ADT\"].copy()\n",
    "rna = neurips[:, neurips.var[\"feature_types\"] == \"GEX\"].copy()\n",
    "rna = rna[:, rna.X.sum(axis=0) > 10].copy()\n",
    "datasets = {\n",
    "    'rna': rna.X,\n",
    "    'protein': protein.X,\n",
    "}# protein.X = protein.X.toarray()\n",
    "# rna.X = rna.X.toarray()\n",
    "# for k in rna.layers:\n",
    "#     rna.layers[k] = rna.layers[k].toarray()\n",
    "# for k in protein.layers:\n",
    "#     protein.layers[k] = protein.layers[k].toarray()\n"
   ]
  },
  {
   "cell_type": "code",
   "execution_count": 4,
   "id": "3a13e795-4afc-4266-bc37-b440774efe18",
   "metadata": {},
   "outputs": [],
   "source": [
    "mudata = mu.MuData({\n",
    "    \"protein\": protein,\n",
    "    \"rna\": rna\n",
    "})"
   ]
  },
  {
   "cell_type": "code",
   "execution_count": null,
   "id": "0eb9acec-d53d-4f9c-9ffa-72c55d7e0461",
   "metadata": {},
   "outputs": [
    {
     "name": "stdout",
     "output_type": "stream",
     "text": [
      "\n",
      "        #########################################################\n",
      "        ###           __  __  ____  ______                    ### \n",
      "        ###          |  \\/  |/ __ \\|  ____/\\    _             ### \n",
      "        ###          | \\  / | |  | | |__ /  \\ _| |_           ### \n",
      "        ###          | |\\/| | |  | |  __/ /\\ \\_   _|          ###\n",
      "        ###          | |  | | |__| | | / ____ \\|_|            ###\n",
      "        ###          |_|  |_|\\____/|_|/_/    \\_\\              ###\n",
      "        ###                                                   ### \n",
      "        ######################################################### \n",
      "       \n",
      " \n",
      "        \n",
      "use_float32 set to True: replacing float64 arrays by float32 arrays to speed up computations...\n",
      "\n",
      "Loaded view='protein' group='group1' with N=90261 samples and D=134 features...\n",
      "Loaded view='rna' group='group1' with N=90261 samples and D=13953 features...\n",
      "\n",
      "\n",
      "Model options:\n",
      "- Automatic Relevance Determination prior on the factors: True\n",
      "- Automatic Relevance Determination prior on the weights: True\n",
      "- Spike-and-slab prior on the factors: False\n",
      "- Spike-and-slab prior on the weights: True\n",
      "Likelihoods:\n",
      "- View 0 (protein): gaussian\n",
      "- View 1 (rna): gaussian\n",
      "\n",
      "\n",
      "\n",
      "\n",
      "######################################\n",
      "## Training the model with seed 1 ##\n",
      "######################################\n",
      "\n",
      "\n",
      "\n",
      "Converged!\n",
      "\n",
      "\n",
      "\n",
      "#######################\n",
      "## Training finished ##\n",
      "#######################\n",
      "\n",
      "\n",
      "Saving model in /scratch/deeplife/projekt/data/../models/muon_mofa_neurips_k10.hdf5...\n"
     ]
    }
   ],
   "source": [
    "mu.tl.mofa(mudata, n_factors=10, convergence_mode='medium', outfile=dir+\"../models/muon_mofa_neurips_k10.hdf5\", gpu_mode=False, use_obs=\"union\", use_float32=True, likelihoods=\"gaussian\")"
   ]
  },
  {
   "cell_type": "code",
   "execution_count": 17,
   "id": "4debd74e-dd85-483e-aa8f-f49624f61b7d",
   "metadata": {},
   "outputs": [],
   "source": [
    "import h5py\n",
    "f=h5py.File(dir+\"../models/muon_mofa_neurips_k10.hdf5\", \"r\")"
   ]
  },
  {
   "cell_type": "code",
   "execution_count": null,
   "id": "f6cfd0bf-12ec-41d6-8dcd-17d61ebda2bc",
   "metadata": {
    "editable": true,
    "slideshow": {
     "slide_type": ""
    },
    "tags": []
   },
   "outputs": [],
   "source": [
    "print(f.keys())\n",
    "\n",
    "# f[\"data\"]\n",
    "# f.close()\n",
    "f[\"expectations/Z/group1\"]"
   ]
  },
  {
   "cell_type": "code",
   "execution_count": 8,
   "id": "a65c7aa3-f3d1-47f6-a452-5daa2a301365",
   "metadata": {},
   "outputs": [],
   "source": [
    "import mofax\n",
    "mfxm = mofax.mofa_model(dir+\"../models/muon_mofa_neurips.hdf5\")"
   ]
  },
  {
   "cell_type": "code",
   "execution_count": 12,
   "id": "438b0e32-128a-4d30-9752-da4ab8e5c748",
   "metadata": {},
   "outputs": [
    {
     "data": {
      "image/png": "[encoded data removed]",
      "text/plain": [
       "<Figure size 640x480 with 2 Axes>"
      ]
     },
     "execution_count": 12,
     "metadata": {},
     "output_type": "execute_result"
    }
   ],
   "source": [
    "mfxm.get_r2()\n",
    "mofax.plot_r2(mfxm, x='View', vmax=15)"
   ]
  },
  {
   "cell_type": "code",
   "execution_count": 10,
   "id": "5410e2bb-32a9-41fb-adea-f4d42f37350f",
   "metadata": {},
   "outputs": [
    {
     "name": "stdout",
     "output_type": "stream",
     "text": [
      "data\n",
      "data/protein\n",
      "data/protein/group1\n",
      "data/rna\n",
      "data/rna/group1\n",
      "expectations\n",
      "expectations/W\n",
      "expectations/W/protein\n",
      "expectations/W/rna\n",
      "expectations/Z\n",
      "expectations/Z/group1\n",
      "features\n",
      "features/protein\n",
      "features/rna\n",
      "features_metadata\n",
      "features_metadata/protein\n",
      "features_metadata/protein/feature_types\n",
      "features_metadata/protein/gene_ids\n",
      "features_metadata/protein/genome\n",
      "features_metadata/rna\n",
      "features_metadata/rna/feature_types\n",
      "features_metadata/rna/gene_ids\n",
      "features_metadata/rna/genome\n",
      "groups\n",
      "groups/groups\n",
      "intercepts\n",
      "intercepts/protein\n",
      "intercepts/protein/group1\n",
      "intercepts/rna\n",
      "intercepts/rna/group1\n",
      "model_options\n",
      "model_options/ard_factors\n",
      "model_options/ard_weights\n",
      "model_options/likelihoods\n",
      "model_options/spikeslab_factors\n",
      "model_options/spikeslab_weights\n",
      "samples\n",
      "samples/group1\n",
      "training_opts\n",
      "training_stats\n",
      "training_stats/elbo\n",
      "training_stats/number_factors\n",
      "training_stats/time\n",
      "variance_explained\n",
      "variance_explained/r2_per_factor\n",
      "variance_explained/r2_per_factor/group1\n",
      "variance_explained/r2_total\n",
      "variance_explained/r2_total/group1\n",
      "views\n",
      "views/views\n"
     ]
    },
    {
     "data": {
      "text/plain": [
       "array(<KeysViewHDF5 ['ard_factors', 'ard_weights', 'likelihoods', 'spikeslab_factors', 'spikeslab_weights']>,\n",
       "      dtype=object)"
      ]
     },
     "execution_count": 10,
     "metadata": {},
     "output_type": "execute_result"
    }
   ],
   "source": [
    "#rna.var['feature_types'].index\n",
    "\n",
    "#mfxm.samples\n",
    "\n",
    "mfxm.model.visititems(lambda a, b: print(a))\n",
    "\n",
    "#np.array([*rna.var['feature_types'].index])\n",
    "\n",
    "np.array(mfxm.model['model_options'].keys())"
   ]
  },
  {
   "cell_type": "code",
   "execution_count": null,
   "id": "c205bcca-9b00-4c0c-ac30-c7234312821f",
   "metadata": {},
   "outputs": [],
   "source": []
  }
 ],
 "metadata": {
  "kernelspec": {
   "display_name": "Python (deeplife2)",
   "language": "python",
   "name": "envname"
  },
  "language_info": {
   "codemirror_mode": {
    "name": "ipython",
    "version": 3
   },
   "file_extension": ".py",
   "mimetype": "text/x-python",
   "name": "python",
   "nbconvert_exporter": "python",
   "pygments_lexer": "ipython3",
   "version": "3.12.3"
  }
 },
 "nbformat": 4,
 "nbformat_minor": 5
}
